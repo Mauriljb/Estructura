{
 "cells": [
  {
   "cell_type": "markdown",
   "metadata": {},
   "source": [
    "En este programita vamos a ver la posicion de los cumulos globulares en coordenadas ecuatoriales y galacticas (Harris 1996)."
   ]
  },
  {
   "cell_type": "code",
   "execution_count": 1,
   "metadata": {},
   "outputs": [],
   "source": [
    "import pandas as pd\n",
    "import matplotlib.pyplot as plt\n"
   ]
  },
  {
   "cell_type": "markdown",
   "metadata": {},
   "source": [
    "En el dataset modificado usamos la coma para separar columnas, y a las coordenadas ecuatoriales se las separó en tres columnas, rag para horas, ram para minutos y asi con la right ascention, y con la declination respectivamente. Obtenemos seis columnas para estas coordenadas, mientas que para l y b solo tenemos dos columnas."
   ]
  },
  {
   "cell_type": "code",
   "execution_count": 2,
   "metadata": {},
   "outputs": [
    {
     "data": {
      "text/html": [
       "<div>\n",
       "<style scoped>\n",
       "    .dataframe tbody tr th:only-of-type {\n",
       "        vertical-align: middle;\n",
       "    }\n",
       "\n",
       "    .dataframe tbody tr th {\n",
       "        vertical-align: top;\n",
       "    }\n",
       "\n",
       "    .dataframe thead th {\n",
       "        text-align: right;\n",
       "    }\n",
       "</style>\n",
       "<table border=\"1\" class=\"dataframe\">\n",
       "  <thead>\n",
       "    <tr style=\"text-align: right;\">\n",
       "      <th></th>\n",
       "      <th>rag</th>\n",
       "      <th>ram</th>\n",
       "      <th>ras</th>\n",
       "      <th>deg</th>\n",
       "      <th>dem</th>\n",
       "      <th>des</th>\n",
       "      <th>L</th>\n",
       "      <th>B</th>\n",
       "    </tr>\n",
       "  </thead>\n",
       "  <tbody>\n",
       "    <tr>\n",
       "      <th>0</th>\n",
       "      <td>0</td>\n",
       "      <td>24</td>\n",
       "      <td>5.67</td>\n",
       "      <td>-72</td>\n",
       "      <td>-4</td>\n",
       "      <td>-52.6</td>\n",
       "      <td>305.89</td>\n",
       "      <td>-44.89</td>\n",
       "    </tr>\n",
       "    <tr>\n",
       "      <th>1</th>\n",
       "      <td>0</td>\n",
       "      <td>52</td>\n",
       "      <td>45.24</td>\n",
       "      <td>-26</td>\n",
       "      <td>-34</td>\n",
       "      <td>-57.4</td>\n",
       "      <td>152.30</td>\n",
       "      <td>-89.38</td>\n",
       "    </tr>\n",
       "    <tr>\n",
       "      <th>2</th>\n",
       "      <td>1</td>\n",
       "      <td>3</td>\n",
       "      <td>14.26</td>\n",
       "      <td>-70</td>\n",
       "      <td>-50</td>\n",
       "      <td>-55.6</td>\n",
       "      <td>301.53</td>\n",
       "      <td>-46.25</td>\n",
       "    </tr>\n",
       "    <tr>\n",
       "      <th>3</th>\n",
       "      <td>2</td>\n",
       "      <td>2</td>\n",
       "      <td>57.00</td>\n",
       "      <td>-3</td>\n",
       "      <td>-15</td>\n",
       "      <td>-10.0</td>\n",
       "      <td>161.22</td>\n",
       "      <td>60.76</td>\n",
       "    </tr>\n",
       "    <tr>\n",
       "      <th>4</th>\n",
       "      <td>3</td>\n",
       "      <td>12</td>\n",
       "      <td>16.21</td>\n",
       "      <td>-55</td>\n",
       "      <td>-12</td>\n",
       "      <td>-58.4</td>\n",
       "      <td>270.54</td>\n",
       "      <td>52.12</td>\n",
       "    </tr>\n",
       "  </tbody>\n",
       "</table>\n",
       "</div>"
      ],
      "text/plain": [
       "   rag  ram    ras  deg  dem   des       L      B\n",
       "0    0   24   5.67  -72   -4 -52.6  305.89 -44.89\n",
       "1    0   52  45.24  -26  -34 -57.4  152.30 -89.38\n",
       "2    1    3  14.26  -70  -50 -55.6  301.53 -46.25\n",
       "3    2    2  57.00   -3  -15 -10.0  161.22  60.76\n",
       "4    3   12  16.21  -55  -12 -58.4  270.54  52.12"
      ]
     },
     "execution_count": 2,
     "metadata": {},
     "output_type": "execute_result"
    }
   ],
   "source": [
    "datos=pd.read_csv(\"data.dat\",usecols=['rag','ram','ras','deg','dem','des','L','B']) \n",
    "datos.head() #verificamos que todo esté en orden."
   ]
  },
  {
   "cell_type": "code",
   "execution_count": 3,
   "metadata": {},
   "outputs": [
    {
     "data": {
      "text/plain": [
       "rag      int64\n",
       "ram      int64\n",
       "ras    float64\n",
       "deg      int64\n",
       "dem      int64\n",
       "des    float64\n",
       "L      float64\n",
       "B      float64\n",
       "dtype: object"
      ]
     },
     "execution_count": 3,
     "metadata": {},
     "output_type": "execute_result"
    }
   ],
   "source": [
    "datos.describe() #Esto no nos sirve a nosotros en estos momentos, pero no está demás hacer esto.\n",
    "datos.dtypes"
   ]
  },
  {
   "cell_type": "code",
   "execution_count": 4,
   "metadata": {
    "scrolled": false
   },
   "outputs": [
    {
     "name": "stderr",
     "output_type": "stream",
     "text": [
      "/home/mauriljb/anaconda3/lib/python3.7/site-packages/ipykernel_launcher.py:3: SettingWithCopyWarning: \n",
      "A value is trying to be set on a copy of a slice from a DataFrame\n",
      "\n",
      "See the caveats in the documentation: http://pandas.pydata.org/pandas-docs/stable/indexing.html#indexing-view-versus-copy\n",
      "  This is separate from the ipykernel package so we can avoid doing imports until\n"
     ]
    },
    {
     "data": {
      "image/png": "[encoded data removed]",
      "text/plain": [
       "<Figure size 432x288 with 1 Axes>"
      ]
     },
     "metadata": {
      "needs_background": "light"
     },
     "output_type": "display_data"
    }
   ],
   "source": [
    "for i in datos.index:\n",
    "    if datos.L[i]>180:\n",
    "        datos.L[i]=datos.L[i]-360\n",
    "\n",
    "        \n",
    "plt.scatter(datos.L,datos.B,) #Gráfico en coordenadas galacticas. Podemos ver cómo los cúmulos se agrupan en el\n",
    "plt.title(\"Distribucion de cumulos en coordenadas galacticas\") #origen, es decir cerca del centro de la galaxia.\n",
    "plt.ylabel(\"Latitud galactica\") #Tambien es notable la poca cantidad de cumulos en valores negativos de B.\n",
    "plt.xlabel(\"Longitud galactica\")\n",
    "plt.show();"
   ]
  },
  {
   "cell_type": "code",
   "execution_count": 5,
   "metadata": {},
   "outputs": [],
   "source": [
    "RA=[]   #Aquí creamos listas para RA y DEC, y las llenamos con los datos de las seis columnas del dataframe\n",
    "DEC=[]  \n",
    "for i in datos.index:\n",
    "    x=(datos[\"rag\"][i]*3600+datos[\"ram\"][i]*60+datos[\"ras\"][i])/3600\n",
    "    y=(datos[\"deg\"][i]*3600+datos[\"dem\"][i]*60+datos[\"des\"][i])/3600\n",
    "    RA.append(x)\n",
    "    DEC.append(y)\n",
    "ec=pd.DataFrame({\"RA\":RA,\n",
    "                \"DEC\":DEC})"
   ]
  },
  {
   "cell_type": "code",
   "execution_count": 6,
   "metadata": {},
   "outputs": [
    {
     "data": {
      "image/png": "[encoded data removed]",
      "text/plain": [
       "<Figure size 432x288 with 1 Axes>"
      ]
     },
     "metadata": {
      "needs_background": "light"
     },
     "output_type": "display_data"
    }
   ],
   "source": [
    "plt.scatter(ec.RA,ec.DEC)\n",
    "plt.title(\"Distribucion de cumulos globulares en coordenadas ecuatoriales\")\n",
    "plt.ylabel(\"Declinaciion (°)\")\n",
    "plt.xlabel(\"Ascension recta (horas)\");"
   ]
  },
  {
   "cell_type": "code",
   "execution_count": 7,
   "metadata": {},
   "outputs": [
    {
     "data": {
      "text/html": [
       "<div>\n",
       "<style scoped>\n",
       "    .dataframe tbody tr th:only-of-type {\n",
       "        vertical-align: middle;\n",
       "    }\n",
       "\n",
       "    .dataframe tbody tr th {\n",
       "        vertical-align: top;\n",
       "    }\n",
       "\n",
       "    .dataframe thead th {\n",
       "        text-align: right;\n",
       "    }\n",
       "</style>\n",
       "<table border=\"1\" class=\"dataframe\">\n",
       "  <thead>\n",
       "    <tr style=\"text-align: right;\">\n",
       "      <th></th>\n",
       "      <th>rag</th>\n",
       "      <th>ram</th>\n",
       "      <th>ras</th>\n",
       "      <th>deg</th>\n",
       "      <th>dem</th>\n",
       "      <th>des</th>\n",
       "      <th>L</th>\n",
       "      <th>B</th>\n",
       "    </tr>\n",
       "  </thead>\n",
       "  <tbody>\n",
       "    <tr>\n",
       "      <th>1</th>\n",
       "      <td>5.0</td>\n",
       "      <td>14.0</td>\n",
       "      <td>6.76</td>\n",
       "      <td>-40.0</td>\n",
       "      <td>-2.0</td>\n",
       "      <td>-47.6</td>\n",
       "      <td>-115.49</td>\n",
       "      <td>35.03</td>\n",
       "    </tr>\n",
       "    <tr>\n",
       "      <th>2</th>\n",
       "      <td>6.0</td>\n",
       "      <td>48.0</td>\n",
       "      <td>59.41</td>\n",
       "      <td>-36.0</td>\n",
       "      <td>0.0</td>\n",
       "      <td>-19.1</td>\n",
       "      <td>-114.37</td>\n",
       "      <td>16.00</td>\n",
       "    </tr>\n",
       "    <tr>\n",
       "      <th>3</th>\n",
       "      <td>13.0</td>\n",
       "      <td>46.0</td>\n",
       "      <td>26.81</td>\n",
       "      <td>-51.0</td>\n",
       "      <td>-22.0</td>\n",
       "      <td>-27.3</td>\n",
       "      <td>-48.39</td>\n",
       "      <td>10.57</td>\n",
       "    </tr>\n",
       "    <tr>\n",
       "      <th>4</th>\n",
       "      <td>21.0</td>\n",
       "      <td>33.0</td>\n",
       "      <td>27.02</td>\n",
       "      <td>0.0</td>\n",
       "      <td>-49.0</td>\n",
       "      <td>-23.7</td>\n",
       "      <td>53.37</td>\n",
       "      <td>35.77</td>\n",
       "    </tr>\n",
       "    <tr>\n",
       "      <th>5</th>\n",
       "      <td>19.0</td>\n",
       "      <td>16.0</td>\n",
       "      <td>35.57</td>\n",
       "      <td>30.0</td>\n",
       "      <td>11.0</td>\n",
       "      <td>0.5</td>\n",
       "      <td>62.66</td>\n",
       "      <td>8.34</td>\n",
       "    </tr>\n",
       "  </tbody>\n",
       "</table>\n",
       "</div>"
      ],
      "text/plain": [
       "    rag   ram    ras   deg   dem   des       L      B\n",
       "1   5.0  14.0   6.76 -40.0  -2.0 -47.6 -115.49  35.03\n",
       "2   6.0  48.0  59.41 -36.0   0.0 -19.1 -114.37  16.00\n",
       "3  13.0  46.0  26.81 -51.0 -22.0 -27.3  -48.39  10.57\n",
       "4  21.0  33.0  27.02   0.0 -49.0 -23.7   53.37  35.77\n",
       "5  19.0  16.0  35.57  30.0  11.0   0.5   62.66   8.34"
      ]
     },
     "execution_count": 7,
     "metadata": {},
     "output_type": "execute_result"
    }
   ],
   "source": [
    "salchicha=pd.read_csv(\"data.dat\",index_col=['Name']) #Por último buscamos a los cúmulos que provienen de la \n",
    "ngc1851=salchicha.loc[\"NGC_1851\"]                    #famosa salchicha cósmica, y vemos sus datos completos\n",
    "ngc2298=salchicha.loc[\"NGC_2298\"]                    #RA, DEC, L, B y tambien distancia al sol, distancia al\n",
    "ngc5286=salchicha.loc[\"NGC_5286\"]                    #centro galactico, y valores cartesianos de l y b.\n",
    "m2=salchicha.loc[\"NGC_7089\"]\n",
    "m56=salchicha.loc[\"NGC_6779\"]\n",
    "m75=salchicha.loc[\"NGC_6864\"]\n",
    "m79=salchicha.loc[\"NGC_1904\"]\n",
    "sc=pd.DataFrame(columns=['rag','ram','ras','deg','dem','des','L','B'])\n",
    "sc.loc[1]=ngc1851\n",
    "sc.loc[2]=ngc2298\n",
    "sc.loc[3]=ngc5286\n",
    "sc.loc[4]=m2\n",
    "sc.loc[5]=m56\n",
    "sc.loc[6]=m75\n",
    "sc.loc[7]=m79\n",
    "\n",
    "for i in sc.index:\n",
    "    if sc.L[i]>180:\n",
    "        sc.L[i]=sc.L[i]-360\n",
    "\n",
    "sc.head()"
   ]
  },
  {
   "cell_type": "code",
   "execution_count": 8,
   "metadata": {},
   "outputs": [
    {
     "data": {
      "image/png": "[encoded data removed]",
      "text/plain": [
       "<Figure size 432x288 with 1 Axes>"
      ]
     },
     "metadata": {
      "needs_background": "light"
     },
     "output_type": "display_data"
    }
   ],
   "source": [
    "plt.scatter(datos.L,datos.B,color='red',alpha=0.3) #Gráfico en coordenadas galacticas. Podemos ver cómo los cúmulos se agrupan en el\n",
    "plt.title(\"Distribucion de cumulos en coordenadas galacticas\") #origen, es decir cerca del centro de la galaxia.\n",
    "plt.ylabel(\"Latitud galactica\") #Tambien es notable la poca cantidad de cumulos en valores negativos de B.\n",
    "plt.xlabel(\"Longitud galactica\")\n",
    "plt.scatter(sc.L,sc.B,color='blue')\n",
    "plt.show();"
   ]
  },
  {
   "cell_type": "code",
   "execution_count": 9,
   "metadata": {},
   "outputs": [
    {
     "data": {
      "image/png": "[encoded data removed]",
      "text/plain": [
       "<Figure size 432x288 with 1 Axes>"
      ]
     },
     "metadata": {
      "needs_background": "light"
     },
     "output_type": "display_data"
    }
   ],
   "source": [
    "sRA=[]   #Aquí creamos listas para RA y DEC, y las llenamos con los datos de las seis columnas del dataframe\n",
    "sDEC=[]  \n",
    "for i in sc.index:\n",
    "    x=(sc[\"rag\"][i]*3600+sc[\"ram\"][i]*60+sc[\"ras\"][i])/3600\n",
    "    y=(sc[\"deg\"][i]*3600+sc[\"dem\"][i]*60+sc[\"des\"][i])/3600\n",
    "    sRA.append(x)\n",
    "    sDEC.append(y)\n",
    "sec=pd.DataFrame({\"RA\":sRA,\n",
    "                \"DEC\":sDEC})\n",
    "plt.scatter(ec.RA,ec.DEC,color='red',alpha=0.3)\n",
    "plt.title(\"Distribucion de cumulos globulares en coordenadas ecuatoriales\")\n",
    "plt.ylabel(\"Declinaciion (°)\")\n",
    "plt.xlabel(\"Ascension recta (horas)\")\n",
    "plt.scatter(sec.RA,sec.DEC,color='blue')\n",
    "plt.show();"
   ]
  },
  {
   "cell_type": "markdown",
   "metadata": {},
   "source": [
    "Referencia:\n",
    "\n",
    "Harris, W.E. 1996, AJ, 112, 1487"
   ]
  },
  {
   "cell_type": "code",
   "execution_count": null,
   "metadata": {},
   "outputs": [],
   "source": []
  }
 ],
 "metadata": {
  "kernelspec": {
   "display_name": "Python 3",
   "language": "python",
   "name": "python3"
  },
  "language_info": {
   "codemirror_mode": {
    "name": "ipython",
    "version": 3
   },
   "file_extension": ".py",
   "mimetype": "text/x-python",
   "name": "python",
   "nbconvert_exporter": "python",
   "pygments_lexer": "ipython3",
   "version": "3.7.3"
  }
 },
 "nbformat": 4,
 "nbformat_minor": 2
}
